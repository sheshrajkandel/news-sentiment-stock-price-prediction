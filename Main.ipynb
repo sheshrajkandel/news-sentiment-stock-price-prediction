{
  "nbformat": 4,
  "nbformat_minor": 0,
  "metadata": {
    "colab": {
      "name": "Main.ipynb",
      "provenance": [],
      "mount_file_id": "1fTeAGX6NJLVuca-pxL3iYiXeKPscVv3F",
      "authorship_tag": "ABX9TyNBs56XY+8Xfy3ra4zp0P0/",
      "include_colab_link": true
    },
    "kernelspec": {
      "name": "python3",
      "display_name": "Python 3"
    },
    "language_info": {
      "name": "python"
    }
  },
  "cells": [
    {
      "cell_type": "markdown",
      "metadata": {
        "id": "view-in-github",
        "colab_type": "text"
      },
      "source": [
        "<a href=\"https://colab.research.google.com/github/sheshrajkandel/news-sentiment-stock-price-prediction/blob/main/Main.ipynb\" target=\"_parent\"><img src=\"https://colab.research.google.com/assets/colab-badge.svg\" alt=\"Open In Colab\"/></a>"
      ]
    },
    {
      "cell_type": "markdown",
      "source": [
        "##**Import the required packages**"
      ],
      "metadata": {
        "id": "OHknC0v1kLMO"
      }
    },
    {
      "cell_type": "code",
      "execution_count": 51,
      "metadata": {
        "id": "J3LVJNEuj4Nc"
      },
      "outputs": [],
      "source": [
        "from pandas import read_csv\n",
        "import matplotlib.pyplot as plt\n",
        "import numpy as np\n",
        "import pandas as pd\n",
        "from pandas import DataFrame\n",
        "from pandas import concat\n",
        "import pandas as pd\n",
        "from matplotlib import pyplot\n",
        "from keras.models import Sequential\n",
        "from keras.layers import Dense\n",
        "from keras.layers import LSTM,GRU\n",
        "from keras.callbacks import EarlyStopping\n",
        "from sklearn.preprocessing import MinMaxScaler\n",
        "from numpy import concatenate\n",
        "from math import sqrt\n",
        "from sklearn.metrics import r2_score, mean_absolute_error,mean_squared_error"
      ]
    },
    {
      "cell_type": "markdown",
      "source": [
        "###**Input dataset**"
      ],
      "metadata": {
        "id": "4K8SEDvoxuPK"
      }
    },
    {
      "cell_type": "code",
      "source": [
        "stock_news_score_data = \"/content/drive/MyDrive/Dissertation/nabil_stock_score_data.csv\"\n",
        "stock_data = \"/content/drive/MyDrive/Dissertation/NABIL_raw_stock_data.csv\"\n",
        "\n",
        "#for filename\n",
        "m_name=''\n",
        "m_set=''\n",
        "\n",
        "#1. Dataset with sentiment score\n",
        "#2. Dataset without sentiment score (Only stock dataset)\n",
        "dataset_choice = int(input(\"Choose the dataset: \"))\n",
        "\n",
        "if(dataset_choice == 1):\n",
        "  df = read_csv(stock_news_score_data, header=0, index_col=0)\n",
        "  dataset = df[['Close','Open','High','Low','Volume','SA_Score']]    \n",
        "  n_features = 6\n",
        "  m_set = 'All' #for filename\n",
        "elif(dataset_choice == 2):\n",
        "  df = read_csv(stock_data, header=0, index_col=0)\n",
        "  dataset = df[['Close','Open','High','Low','Volume']]\n",
        "  n_features = 5\n",
        "  m_set = 'Only'\n",
        "else:\n",
        "  print('Wrong Input! Please choose dataset.')\n",
        "\n",
        "dataset.head()"
      ],
      "metadata": {
        "colab": {
          "base_uri": "https://localhost:8080/",
          "height": 255
        },
        "id": "N2z8d-YTkS3F",
        "outputId": "a49e60c3-0e04-4469-988e-4f2035f07854"
      },
      "execution_count": 56,
      "outputs": [
        {
          "name": "stdout",
          "output_type": "stream",
          "text": [
            "Choose the dataset: 1\n"
          ]
        },
        {
          "output_type": "execute_result",
          "data": {
            "text/plain": [
              "            Close   Open   High    Low  Volume  SA_Score\n",
              "Date                                                    \n",
              "2022-05-31  875.0  890.0  890.0  865.0   45502    0.0000\n",
              "2022-05-30  890.0  900.0  901.0  881.0   44382    0.3680\n",
              "2022-05-27  898.0  900.0  900.0  896.0   39790    0.4019\n",
              "2022-05-26  898.6  918.0  918.0  897.0   39717    0.0000\n",
              "2022-05-25  900.0  915.0  915.0  898.0   38263    0.0000"
            ],
            "text/html": [
              "\n",
              "  <div id=\"df-d0cdbebc-b3bc-45e0-a517-76c961df7571\">\n",
              "    <div class=\"colab-df-container\">\n",
              "      <div>\n",
              "<style scoped>\n",
              "    .dataframe tbody tr th:only-of-type {\n",
              "        vertical-align: middle;\n",
              "    }\n",
              "\n",
              "    .dataframe tbody tr th {\n",
              "        vertical-align: top;\n",
              "    }\n",
              "\n",
              "    .dataframe thead th {\n",
              "        text-align: right;\n",
              "    }\n",
              "</style>\n",
              "<table border=\"1\" class=\"dataframe\">\n",
              "  <thead>\n",
              "    <tr style=\"text-align: right;\">\n",
              "      <th></th>\n",
              "      <th>Close</th>\n",
              "      <th>Open</th>\n",
              "      <th>High</th>\n",
              "      <th>Low</th>\n",
              "      <th>Volume</th>\n",
              "      <th>SA_Score</th>\n",
              "    </tr>\n",
              "    <tr>\n",
              "      <th>Date</th>\n",
              "      <th></th>\n",
              "      <th></th>\n",
              "      <th></th>\n",
              "      <th></th>\n",
              "      <th></th>\n",
              "      <th></th>\n",
              "    </tr>\n",
              "  </thead>\n",
              "  <tbody>\n",
              "    <tr>\n",
              "      <th>2022-05-31</th>\n",
              "      <td>875.0</td>\n",
              "      <td>890.0</td>\n",
              "      <td>890.0</td>\n",
              "      <td>865.0</td>\n",
              "      <td>45502</td>\n",
              "      <td>0.0000</td>\n",
              "    </tr>\n",
              "    <tr>\n",
              "      <th>2022-05-30</th>\n",
              "      <td>890.0</td>\n",
              "      <td>900.0</td>\n",
              "      <td>901.0</td>\n",
              "      <td>881.0</td>\n",
              "      <td>44382</td>\n",
              "      <td>0.3680</td>\n",
              "    </tr>\n",
              "    <tr>\n",
              "      <th>2022-05-27</th>\n",
              "      <td>898.0</td>\n",
              "      <td>900.0</td>\n",
              "      <td>900.0</td>\n",
              "      <td>896.0</td>\n",
              "      <td>39790</td>\n",
              "      <td>0.4019</td>\n",
              "    </tr>\n",
              "    <tr>\n",
              "      <th>2022-05-26</th>\n",
              "      <td>898.6</td>\n",
              "      <td>918.0</td>\n",
              "      <td>918.0</td>\n",
              "      <td>897.0</td>\n",
              "      <td>39717</td>\n",
              "      <td>0.0000</td>\n",
              "    </tr>\n",
              "    <tr>\n",
              "      <th>2022-05-25</th>\n",
              "      <td>900.0</td>\n",
              "      <td>915.0</td>\n",
              "      <td>915.0</td>\n",
              "      <td>898.0</td>\n",
              "      <td>38263</td>\n",
              "      <td>0.0000</td>\n",
              "    </tr>\n",
              "  </tbody>\n",
              "</table>\n",
              "</div>\n",
              "      <button class=\"colab-df-convert\" onclick=\"convertToInteractive('df-d0cdbebc-b3bc-45e0-a517-76c961df7571')\"\n",
              "              title=\"Convert this dataframe to an interactive table.\"\n",
              "              style=\"display:none;\">\n",
              "        \n",
              "  <svg xmlns=\"http://www.w3.org/2000/svg\" height=\"24px\"viewBox=\"0 0 24 24\"\n",
              "       width=\"24px\">\n",
              "    <path d=\"M0 0h24v24H0V0z\" fill=\"none\"/>\n",
              "    <path d=\"M18.56 5.44l.94 2.06.94-2.06 2.06-.94-2.06-.94-.94-2.06-.94 2.06-2.06.94zm-11 1L8.5 8.5l.94-2.06 2.06-.94-2.06-.94L8.5 2.5l-.94 2.06-2.06.94zm10 10l.94 2.06.94-2.06 2.06-.94-2.06-.94-.94-2.06-.94 2.06-2.06.94z\"/><path d=\"M17.41 7.96l-1.37-1.37c-.4-.4-.92-.59-1.43-.59-.52 0-1.04.2-1.43.59L10.3 9.45l-7.72 7.72c-.78.78-.78 2.05 0 2.83L4 21.41c.39.39.9.59 1.41.59.51 0 1.02-.2 1.41-.59l7.78-7.78 2.81-2.81c.8-.78.8-2.07 0-2.86zM5.41 20L4 18.59l7.72-7.72 1.47 1.35L5.41 20z\"/>\n",
              "  </svg>\n",
              "      </button>\n",
              "      \n",
              "  <style>\n",
              "    .colab-df-container {\n",
              "      display:flex;\n",
              "      flex-wrap:wrap;\n",
              "      gap: 12px;\n",
              "    }\n",
              "\n",
              "    .colab-df-convert {\n",
              "      background-color: #E8F0FE;\n",
              "      border: none;\n",
              "      border-radius: 50%;\n",
              "      cursor: pointer;\n",
              "      display: none;\n",
              "      fill: #1967D2;\n",
              "      height: 32px;\n",
              "      padding: 0 0 0 0;\n",
              "      width: 32px;\n",
              "    }\n",
              "\n",
              "    .colab-df-convert:hover {\n",
              "      background-color: #E2EBFA;\n",
              "      box-shadow: 0px 1px 2px rgba(60, 64, 67, 0.3), 0px 1px 3px 1px rgba(60, 64, 67, 0.15);\n",
              "      fill: #174EA6;\n",
              "    }\n",
              "\n",
              "    [theme=dark] .colab-df-convert {\n",
              "      background-color: #3B4455;\n",
              "      fill: #D2E3FC;\n",
              "    }\n",
              "\n",
              "    [theme=dark] .colab-df-convert:hover {\n",
              "      background-color: #434B5C;\n",
              "      box-shadow: 0px 1px 3px 1px rgba(0, 0, 0, 0.15);\n",
              "      filter: drop-shadow(0px 1px 2px rgba(0, 0, 0, 0.3));\n",
              "      fill: #FFFFFF;\n",
              "    }\n",
              "  </style>\n",
              "\n",
              "      <script>\n",
              "        const buttonEl =\n",
              "          document.querySelector('#df-d0cdbebc-b3bc-45e0-a517-76c961df7571 button.colab-df-convert');\n",
              "        buttonEl.style.display =\n",
              "          google.colab.kernel.accessAllowed ? 'block' : 'none';\n",
              "\n",
              "        async function convertToInteractive(key) {\n",
              "          const element = document.querySelector('#df-d0cdbebc-b3bc-45e0-a517-76c961df7571');\n",
              "          const dataTable =\n",
              "            await google.colab.kernel.invokeFunction('convertToInteractive',\n",
              "                                                     [key], {});\n",
              "          if (!dataTable) return;\n",
              "\n",
              "          const docLinkHtml = 'Like what you see? Visit the ' +\n",
              "            '<a target=\"_blank\" href=https://colab.research.google.com/notebooks/data_table.ipynb>data table notebook</a>'\n",
              "            + ' to learn more about interactive tables.';\n",
              "          element.innerHTML = '';\n",
              "          dataTable['output_type'] = 'display_data';\n",
              "          await google.colab.output.renderOutput(dataTable, element);\n",
              "          const docLink = document.createElement('div');\n",
              "          docLink.innerHTML = docLinkHtml;\n",
              "          element.appendChild(docLink);\n",
              "        }\n",
              "      </script>\n",
              "    </div>\n",
              "  </div>\n",
              "  "
            ]
          },
          "metadata": {},
          "execution_count": 56
        }
      ]
    },
    {
      "cell_type": "code",
      "source": [
        "dataset=dataset.reset_index()\n",
        "dataset.head()"
      ],
      "metadata": {
        "colab": {
          "base_uri": "https://localhost:8080/",
          "height": 206
        },
        "id": "AmsgdrkQyB5W",
        "outputId": "adcddb00-383e-4cce-efbc-2991dcb84311"
      },
      "execution_count": 57,
      "outputs": [
        {
          "output_type": "execute_result",
          "data": {
            "text/plain": [
              "         Date  Close   Open   High    Low  Volume  SA_Score\n",
              "0  2022-05-31  875.0  890.0  890.0  865.0   45502    0.0000\n",
              "1  2022-05-30  890.0  900.0  901.0  881.0   44382    0.3680\n",
              "2  2022-05-27  898.0  900.0  900.0  896.0   39790    0.4019\n",
              "3  2022-05-26  898.6  918.0  918.0  897.0   39717    0.0000\n",
              "4  2022-05-25  900.0  915.0  915.0  898.0   38263    0.0000"
            ],
            "text/html": [
              "\n",
              "  <div id=\"df-ebe56c37-2241-49a5-91cd-c014a0fda230\">\n",
              "    <div class=\"colab-df-container\">\n",
              "      <div>\n",
              "<style scoped>\n",
              "    .dataframe tbody tr th:only-of-type {\n",
              "        vertical-align: middle;\n",
              "    }\n",
              "\n",
              "    .dataframe tbody tr th {\n",
              "        vertical-align: top;\n",
              "    }\n",
              "\n",
              "    .dataframe thead th {\n",
              "        text-align: right;\n",
              "    }\n",
              "</style>\n",
              "<table border=\"1\" class=\"dataframe\">\n",
              "  <thead>\n",
              "    <tr style=\"text-align: right;\">\n",
              "      <th></th>\n",
              "      <th>Date</th>\n",
              "      <th>Close</th>\n",
              "      <th>Open</th>\n",
              "      <th>High</th>\n",
              "      <th>Low</th>\n",
              "      <th>Volume</th>\n",
              "      <th>SA_Score</th>\n",
              "    </tr>\n",
              "  </thead>\n",
              "  <tbody>\n",
              "    <tr>\n",
              "      <th>0</th>\n",
              "      <td>2022-05-31</td>\n",
              "      <td>875.0</td>\n",
              "      <td>890.0</td>\n",
              "      <td>890.0</td>\n",
              "      <td>865.0</td>\n",
              "      <td>45502</td>\n",
              "      <td>0.0000</td>\n",
              "    </tr>\n",
              "    <tr>\n",
              "      <th>1</th>\n",
              "      <td>2022-05-30</td>\n",
              "      <td>890.0</td>\n",
              "      <td>900.0</td>\n",
              "      <td>901.0</td>\n",
              "      <td>881.0</td>\n",
              "      <td>44382</td>\n",
              "      <td>0.3680</td>\n",
              "    </tr>\n",
              "    <tr>\n",
              "      <th>2</th>\n",
              "      <td>2022-05-27</td>\n",
              "      <td>898.0</td>\n",
              "      <td>900.0</td>\n",
              "      <td>900.0</td>\n",
              "      <td>896.0</td>\n",
              "      <td>39790</td>\n",
              "      <td>0.4019</td>\n",
              "    </tr>\n",
              "    <tr>\n",
              "      <th>3</th>\n",
              "      <td>2022-05-26</td>\n",
              "      <td>898.6</td>\n",
              "      <td>918.0</td>\n",
              "      <td>918.0</td>\n",
              "      <td>897.0</td>\n",
              "      <td>39717</td>\n",
              "      <td>0.0000</td>\n",
              "    </tr>\n",
              "    <tr>\n",
              "      <th>4</th>\n",
              "      <td>2022-05-25</td>\n",
              "      <td>900.0</td>\n",
              "      <td>915.0</td>\n",
              "      <td>915.0</td>\n",
              "      <td>898.0</td>\n",
              "      <td>38263</td>\n",
              "      <td>0.0000</td>\n",
              "    </tr>\n",
              "  </tbody>\n",
              "</table>\n",
              "</div>\n",
              "      <button class=\"colab-df-convert\" onclick=\"convertToInteractive('df-ebe56c37-2241-49a5-91cd-c014a0fda230')\"\n",
              "              title=\"Convert this dataframe to an interactive table.\"\n",
              "              style=\"display:none;\">\n",
              "        \n",
              "  <svg xmlns=\"http://www.w3.org/2000/svg\" height=\"24px\"viewBox=\"0 0 24 24\"\n",
              "       width=\"24px\">\n",
              "    <path d=\"M0 0h24v24H0V0z\" fill=\"none\"/>\n",
              "    <path d=\"M18.56 5.44l.94 2.06.94-2.06 2.06-.94-2.06-.94-.94-2.06-.94 2.06-2.06.94zm-11 1L8.5 8.5l.94-2.06 2.06-.94-2.06-.94L8.5 2.5l-.94 2.06-2.06.94zm10 10l.94 2.06.94-2.06 2.06-.94-2.06-.94-.94-2.06-.94 2.06-2.06.94z\"/><path d=\"M17.41 7.96l-1.37-1.37c-.4-.4-.92-.59-1.43-.59-.52 0-1.04.2-1.43.59L10.3 9.45l-7.72 7.72c-.78.78-.78 2.05 0 2.83L4 21.41c.39.39.9.59 1.41.59.51 0 1.02-.2 1.41-.59l7.78-7.78 2.81-2.81c.8-.78.8-2.07 0-2.86zM5.41 20L4 18.59l7.72-7.72 1.47 1.35L5.41 20z\"/>\n",
              "  </svg>\n",
              "      </button>\n",
              "      \n",
              "  <style>\n",
              "    .colab-df-container {\n",
              "      display:flex;\n",
              "      flex-wrap:wrap;\n",
              "      gap: 12px;\n",
              "    }\n",
              "\n",
              "    .colab-df-convert {\n",
              "      background-color: #E8F0FE;\n",
              "      border: none;\n",
              "      border-radius: 50%;\n",
              "      cursor: pointer;\n",
              "      display: none;\n",
              "      fill: #1967D2;\n",
              "      height: 32px;\n",
              "      padding: 0 0 0 0;\n",
              "      width: 32px;\n",
              "    }\n",
              "\n",
              "    .colab-df-convert:hover {\n",
              "      background-color: #E2EBFA;\n",
              "      box-shadow: 0px 1px 2px rgba(60, 64, 67, 0.3), 0px 1px 3px 1px rgba(60, 64, 67, 0.15);\n",
              "      fill: #174EA6;\n",
              "    }\n",
              "\n",
              "    [theme=dark] .colab-df-convert {\n",
              "      background-color: #3B4455;\n",
              "      fill: #D2E3FC;\n",
              "    }\n",
              "\n",
              "    [theme=dark] .colab-df-convert:hover {\n",
              "      background-color: #434B5C;\n",
              "      box-shadow: 0px 1px 3px 1px rgba(0, 0, 0, 0.15);\n",
              "      filter: drop-shadow(0px 1px 2px rgba(0, 0, 0, 0.3));\n",
              "      fill: #FFFFFF;\n",
              "    }\n",
              "  </style>\n",
              "\n",
              "      <script>\n",
              "        const buttonEl =\n",
              "          document.querySelector('#df-ebe56c37-2241-49a5-91cd-c014a0fda230 button.colab-df-convert');\n",
              "        buttonEl.style.display =\n",
              "          google.colab.kernel.accessAllowed ? 'block' : 'none';\n",
              "\n",
              "        async function convertToInteractive(key) {\n",
              "          const element = document.querySelector('#df-ebe56c37-2241-49a5-91cd-c014a0fda230');\n",
              "          const dataTable =\n",
              "            await google.colab.kernel.invokeFunction('convertToInteractive',\n",
              "                                                     [key], {});\n",
              "          if (!dataTable) return;\n",
              "\n",
              "          const docLinkHtml = 'Like what you see? Visit the ' +\n",
              "            '<a target=\"_blank\" href=https://colab.research.google.com/notebooks/data_table.ipynb>data table notebook</a>'\n",
              "            + ' to learn more about interactive tables.';\n",
              "          element.innerHTML = '';\n",
              "          dataTable['output_type'] = 'display_data';\n",
              "          await google.colab.output.renderOutput(dataTable, element);\n",
              "          const docLink = document.createElement('div');\n",
              "          docLink.innerHTML = docLinkHtml;\n",
              "          element.appendChild(docLink);\n",
              "        }\n",
              "      </script>\n",
              "    </div>\n",
              "  </div>\n",
              "  "
            ]
          },
          "metadata": {},
          "execution_count": 57
        }
      ]
    },
    {
      "cell_type": "code",
      "source": [
        "#Set the date as index of dataset\n",
        "dataset['Date'] = pd.to_datetime(dataset['Date']).dt.date\n",
        "dataset.set_index('Date',drop = True,inplace=True)\n",
        "\n",
        "#Plot the closing price for trend analysis\n",
        "plt.plot(dataset['Close'])\n"
      ],
      "metadata": {
        "colab": {
          "base_uri": "https://localhost:8080/",
          "height": 282
        },
        "id": "HSNV0TfzyWwD",
        "outputId": "d97f9b1e-7eff-4cff-a57f-675a0c88b159"
      },
      "execution_count": 58,
      "outputs": [
        {
          "output_type": "execute_result",
          "data": {
            "text/plain": [
              "[<matplotlib.lines.Line2D at 0x7fd1cec29d10>]"
            ]
          },
          "metadata": {},
          "execution_count": 58
        },
        {
          "output_type": "display_data",
          "data": {
            "text/plain": [
              "<Figure size 432x288 with 1 Axes>"
            ],
            "image/png": "[encoded data removed]"
          },
          "metadata": {
            "needs_background": "light"
          }
        }
      ]
    },
    {
      "cell_type": "code",
      "source": [
        "dataset.head()"
      ],
      "metadata": {
        "colab": {
          "base_uri": "https://localhost:8080/",
          "height": 237
        },
        "id": "lY1LekHm3AjK",
        "outputId": "d1668362-f7d5-4db3-f368-6aaa15ce4c5f"
      },
      "execution_count": 59,
      "outputs": [
        {
          "output_type": "execute_result",
          "data": {
            "text/plain": [
              "            Close   Open   High    Low  Volume  SA_Score\n",
              "Date                                                    \n",
              "2022-05-31  875.0  890.0  890.0  865.0   45502    0.0000\n",
              "2022-05-30  890.0  900.0  901.0  881.0   44382    0.3680\n",
              "2022-05-27  898.0  900.0  900.0  896.0   39790    0.4019\n",
              "2022-05-26  898.6  918.0  918.0  897.0   39717    0.0000\n",
              "2022-05-25  900.0  915.0  915.0  898.0   38263    0.0000"
            ],
            "text/html": [
              "\n",
              "  <div id=\"df-3f0c9534-fe83-415d-a3bd-c42bd2e0692c\">\n",
              "    <div class=\"colab-df-container\">\n",
              "      <div>\n",
              "<style scoped>\n",
              "    .dataframe tbody tr th:only-of-type {\n",
              "        vertical-align: middle;\n",
              "    }\n",
              "\n",
              "    .dataframe tbody tr th {\n",
              "        vertical-align: top;\n",
              "    }\n",
              "\n",
              "    .dataframe thead th {\n",
              "        text-align: right;\n",
              "    }\n",
              "</style>\n",
              "<table border=\"1\" class=\"dataframe\">\n",
              "  <thead>\n",
              "    <tr style=\"text-align: right;\">\n",
              "      <th></th>\n",
              "      <th>Close</th>\n",
              "      <th>Open</th>\n",
              "      <th>High</th>\n",
              "      <th>Low</th>\n",
              "      <th>Volume</th>\n",
              "      <th>SA_Score</th>\n",
              "    </tr>\n",
              "    <tr>\n",
              "      <th>Date</th>\n",
              "      <th></th>\n",
              "      <th></th>\n",
              "      <th></th>\n",
              "      <th></th>\n",
              "      <th></th>\n",
              "      <th></th>\n",
              "    </tr>\n",
              "  </thead>\n",
              "  <tbody>\n",
              "    <tr>\n",
              "      <th>2022-05-31</th>\n",
              "      <td>875.0</td>\n",
              "      <td>890.0</td>\n",
              "      <td>890.0</td>\n",
              "      <td>865.0</td>\n",
              "      <td>45502</td>\n",
              "      <td>0.0000</td>\n",
              "    </tr>\n",
              "    <tr>\n",
              "      <th>2022-05-30</th>\n",
              "      <td>890.0</td>\n",
              "      <td>900.0</td>\n",
              "      <td>901.0</td>\n",
              "      <td>881.0</td>\n",
              "      <td>44382</td>\n",
              "      <td>0.3680</td>\n",
              "    </tr>\n",
              "    <tr>\n",
              "      <th>2022-05-27</th>\n",
              "      <td>898.0</td>\n",
              "      <td>900.0</td>\n",
              "      <td>900.0</td>\n",
              "      <td>896.0</td>\n",
              "      <td>39790</td>\n",
              "      <td>0.4019</td>\n",
              "    </tr>\n",
              "    <tr>\n",
              "      <th>2022-05-26</th>\n",
              "      <td>898.6</td>\n",
              "      <td>918.0</td>\n",
              "      <td>918.0</td>\n",
              "      <td>897.0</td>\n",
              "      <td>39717</td>\n",
              "      <td>0.0000</td>\n",
              "    </tr>\n",
              "    <tr>\n",
              "      <th>2022-05-25</th>\n",
              "      <td>900.0</td>\n",
              "      <td>915.0</td>\n",
              "      <td>915.0</td>\n",
              "      <td>898.0</td>\n",
              "      <td>38263</td>\n",
              "      <td>0.0000</td>\n",
              "    </tr>\n",
              "  </tbody>\n",
              "</table>\n",
              "</div>\n",
              "      <button class=\"colab-df-convert\" onclick=\"convertToInteractive('df-3f0c9534-fe83-415d-a3bd-c42bd2e0692c')\"\n",
              "              title=\"Convert this dataframe to an interactive table.\"\n",
              "              style=\"display:none;\">\n",
              "        \n",
              "  <svg xmlns=\"http://www.w3.org/2000/svg\" height=\"24px\"viewBox=\"0 0 24 24\"\n",
              "       width=\"24px\">\n",
              "    <path d=\"M0 0h24v24H0V0z\" fill=\"none\"/>\n",
              "    <path d=\"M18.56 5.44l.94 2.06.94-2.06 2.06-.94-2.06-.94-.94-2.06-.94 2.06-2.06.94zm-11 1L8.5 8.5l.94-2.06 2.06-.94-2.06-.94L8.5 2.5l-.94 2.06-2.06.94zm10 10l.94 2.06.94-2.06 2.06-.94-2.06-.94-.94-2.06-.94 2.06-2.06.94z\"/><path d=\"M17.41 7.96l-1.37-1.37c-.4-.4-.92-.59-1.43-.59-.52 0-1.04.2-1.43.59L10.3 9.45l-7.72 7.72c-.78.78-.78 2.05 0 2.83L4 21.41c.39.39.9.59 1.41.59.51 0 1.02-.2 1.41-.59l7.78-7.78 2.81-2.81c.8-.78.8-2.07 0-2.86zM5.41 20L4 18.59l7.72-7.72 1.47 1.35L5.41 20z\"/>\n",
              "  </svg>\n",
              "      </button>\n",
              "      \n",
              "  <style>\n",
              "    .colab-df-container {\n",
              "      display:flex;\n",
              "      flex-wrap:wrap;\n",
              "      gap: 12px;\n",
              "    }\n",
              "\n",
              "    .colab-df-convert {\n",
              "      background-color: #E8F0FE;\n",
              "      border: none;\n",
              "      border-radius: 50%;\n",
              "      cursor: pointer;\n",
              "      display: none;\n",
              "      fill: #1967D2;\n",
              "      height: 32px;\n",
              "      padding: 0 0 0 0;\n",
              "      width: 32px;\n",
              "    }\n",
              "\n",
              "    .colab-df-convert:hover {\n",
              "      background-color: #E2EBFA;\n",
              "      box-shadow: 0px 1px 2px rgba(60, 64, 67, 0.3), 0px 1px 3px 1px rgba(60, 64, 67, 0.15);\n",
              "      fill: #174EA6;\n",
              "    }\n",
              "\n",
              "    [theme=dark] .colab-df-convert {\n",
              "      background-color: #3B4455;\n",
              "      fill: #D2E3FC;\n",
              "    }\n",
              "\n",
              "    [theme=dark] .colab-df-convert:hover {\n",
              "      background-color: #434B5C;\n",
              "      box-shadow: 0px 1px 3px 1px rgba(0, 0, 0, 0.15);\n",
              "      filter: drop-shadow(0px 1px 2px rgba(0, 0, 0, 0.3));\n",
              "      fill: #FFFFFF;\n",
              "    }\n",
              "  </style>\n",
              "\n",
              "      <script>\n",
              "        const buttonEl =\n",
              "          document.querySelector('#df-3f0c9534-fe83-415d-a3bd-c42bd2e0692c button.colab-df-convert');\n",
              "        buttonEl.style.display =\n",
              "          google.colab.kernel.accessAllowed ? 'block' : 'none';\n",
              "\n",
              "        async function convertToInteractive(key) {\n",
              "          const element = document.querySelector('#df-3f0c9534-fe83-415d-a3bd-c42bd2e0692c');\n",
              "          const dataTable =\n",
              "            await google.colab.kernel.invokeFunction('convertToInteractive',\n",
              "                                                     [key], {});\n",
              "          if (!dataTable) return;\n",
              "\n",
              "          const docLinkHtml = 'Like what you see? Visit the ' +\n",
              "            '<a target=\"_blank\" href=https://colab.research.google.com/notebooks/data_table.ipynb>data table notebook</a>'\n",
              "            + ' to learn more about interactive tables.';\n",
              "          element.innerHTML = '';\n",
              "          dataTable['output_type'] = 'display_data';\n",
              "          await google.colab.output.renderOutput(dataTable, element);\n",
              "          const docLink = document.createElement('div');\n",
              "          docLink.innerHTML = docLinkHtml;\n",
              "          element.appendChild(docLink);\n",
              "        }\n",
              "      </script>\n",
              "    </div>\n",
              "  </div>\n",
              "  "
            ]
          },
          "metadata": {},
          "execution_count": 59
        }
      ]
    },
    {
      "cell_type": "code",
      "source": [
        "dataset=dataset.sort_index()\n",
        "dataset.head()"
      ],
      "metadata": {
        "colab": {
          "base_uri": "https://localhost:8080/",
          "height": 237
        },
        "id": "B2FITEeb3ItB",
        "outputId": "8910e04b-e32d-48d6-dc00-49b70ff89232"
      },
      "execution_count": 60,
      "outputs": [
        {
          "output_type": "execute_result",
          "data": {
            "text/plain": [
              "             Close    Open    High     Low  Volume  SA_Score\n",
              "Date                                                        \n",
              "2011-03-20  1170.0  1200.0  1190.0  1160.0     853       0.0\n",
              "2011-03-24  1153.0  1162.0  1178.0  1150.0     356       0.0\n",
              "2011-03-25  1174.0  1153.0  1174.0  1145.0     702       0.0\n",
              "2011-03-27  1147.0  1174.0  1160.0  1120.0    1426       0.0\n",
              "2011-03-28  1132.0  1147.0  1150.0  1110.0     352       0.0"
            ],
            "text/html": [
              "\n",
              "  <div id=\"df-17e2e83d-5a0a-4624-b30c-20f37914d74d\">\n",
              "    <div class=\"colab-df-container\">\n",
              "      <div>\n",
              "<style scoped>\n",
              "    .dataframe tbody tr th:only-of-type {\n",
              "        vertical-align: middle;\n",
              "    }\n",
              "\n",
              "    .dataframe tbody tr th {\n",
              "        vertical-align: top;\n",
              "    }\n",
              "\n",
              "    .dataframe thead th {\n",
              "        text-align: right;\n",
              "    }\n",
              "</style>\n",
              "<table border=\"1\" class=\"dataframe\">\n",
              "  <thead>\n",
              "    <tr style=\"text-align: right;\">\n",
              "      <th></th>\n",
              "      <th>Close</th>\n",
              "      <th>Open</th>\n",
              "      <th>High</th>\n",
              "      <th>Low</th>\n",
              "      <th>Volume</th>\n",
              "      <th>SA_Score</th>\n",
              "    </tr>\n",
              "    <tr>\n",
              "      <th>Date</th>\n",
              "      <th></th>\n",
              "      <th></th>\n",
              "      <th></th>\n",
              "      <th></th>\n",
              "      <th></th>\n",
              "      <th></th>\n",
              "    </tr>\n",
              "  </thead>\n",
              "  <tbody>\n",
              "    <tr>\n",
              "      <th>2011-03-20</th>\n",
              "      <td>1170.0</td>\n",
              "      <td>1200.0</td>\n",
              "      <td>1190.0</td>\n",
              "      <td>1160.0</td>\n",
              "      <td>853</td>\n",
              "      <td>0.0</td>\n",
              "    </tr>\n",
              "    <tr>\n",
              "      <th>2011-03-24</th>\n",
              "      <td>1153.0</td>\n",
              "      <td>1162.0</td>\n",
              "      <td>1178.0</td>\n",
              "      <td>1150.0</td>\n",
              "      <td>356</td>\n",
              "      <td>0.0</td>\n",
              "    </tr>\n",
              "    <tr>\n",
              "      <th>2011-03-25</th>\n",
              "      <td>1174.0</td>\n",
              "      <td>1153.0</td>\n",
              "      <td>1174.0</td>\n",
              "      <td>1145.0</td>\n",
              "      <td>702</td>\n",
              "      <td>0.0</td>\n",
              "    </tr>\n",
              "    <tr>\n",
              "      <th>2011-03-27</th>\n",
              "      <td>1147.0</td>\n",
              "      <td>1174.0</td>\n",
              "      <td>1160.0</td>\n",
              "      <td>1120.0</td>\n",
              "      <td>1426</td>\n",
              "      <td>0.0</td>\n",
              "    </tr>\n",
              "    <tr>\n",
              "      <th>2011-03-28</th>\n",
              "      <td>1132.0</td>\n",
              "      <td>1147.0</td>\n",
              "      <td>1150.0</td>\n",
              "      <td>1110.0</td>\n",
              "      <td>352</td>\n",
              "      <td>0.0</td>\n",
              "    </tr>\n",
              "  </tbody>\n",
              "</table>\n",
              "</div>\n",
              "      <button class=\"colab-df-convert\" onclick=\"convertToInteractive('df-17e2e83d-5a0a-4624-b30c-20f37914d74d')\"\n",
              "              title=\"Convert this dataframe to an interactive table.\"\n",
              "              style=\"display:none;\">\n",
              "        \n",
              "  <svg xmlns=\"http://www.w3.org/2000/svg\" height=\"24px\"viewBox=\"0 0 24 24\"\n",
              "       width=\"24px\">\n",
              "    <path d=\"M0 0h24v24H0V0z\" fill=\"none\"/>\n",
              "    <path d=\"M18.56 5.44l.94 2.06.94-2.06 2.06-.94-2.06-.94-.94-2.06-.94 2.06-2.06.94zm-11 1L8.5 8.5l.94-2.06 2.06-.94-2.06-.94L8.5 2.5l-.94 2.06-2.06.94zm10 10l.94 2.06.94-2.06 2.06-.94-2.06-.94-.94-2.06-.94 2.06-2.06.94z\"/><path d=\"M17.41 7.96l-1.37-1.37c-.4-.4-.92-.59-1.43-.59-.52 0-1.04.2-1.43.59L10.3 9.45l-7.72 7.72c-.78.78-.78 2.05 0 2.83L4 21.41c.39.39.9.59 1.41.59.51 0 1.02-.2 1.41-.59l7.78-7.78 2.81-2.81c.8-.78.8-2.07 0-2.86zM5.41 20L4 18.59l7.72-7.72 1.47 1.35L5.41 20z\"/>\n",
              "  </svg>\n",
              "      </button>\n",
              "      \n",
              "  <style>\n",
              "    .colab-df-container {\n",
              "      display:flex;\n",
              "      flex-wrap:wrap;\n",
              "      gap: 12px;\n",
              "    }\n",
              "\n",
              "    .colab-df-convert {\n",
              "      background-color: #E8F0FE;\n",
              "      border: none;\n",
              "      border-radius: 50%;\n",
              "      cursor: pointer;\n",
              "      display: none;\n",
              "      fill: #1967D2;\n",
              "      height: 32px;\n",
              "      padding: 0 0 0 0;\n",
              "      width: 32px;\n",
              "    }\n",
              "\n",
              "    .colab-df-convert:hover {\n",
              "      background-color: #E2EBFA;\n",
              "      box-shadow: 0px 1px 2px rgba(60, 64, 67, 0.3), 0px 1px 3px 1px rgba(60, 64, 67, 0.15);\n",
              "      fill: #174EA6;\n",
              "    }\n",
              "\n",
              "    [theme=dark] .colab-df-convert {\n",
              "      background-color: #3B4455;\n",
              "      fill: #D2E3FC;\n",
              "    }\n",
              "\n",
              "    [theme=dark] .colab-df-convert:hover {\n",
              "      background-color: #434B5C;\n",
              "      box-shadow: 0px 1px 3px 1px rgba(0, 0, 0, 0.15);\n",
              "      filter: drop-shadow(0px 1px 2px rgba(0, 0, 0, 0.3));\n",
              "      fill: #FFFFFF;\n",
              "    }\n",
              "  </style>\n",
              "\n",
              "      <script>\n",
              "        const buttonEl =\n",
              "          document.querySelector('#df-17e2e83d-5a0a-4624-b30c-20f37914d74d button.colab-df-convert');\n",
              "        buttonEl.style.display =\n",
              "          google.colab.kernel.accessAllowed ? 'block' : 'none';\n",
              "\n",
              "        async function convertToInteractive(key) {\n",
              "          const element = document.querySelector('#df-17e2e83d-5a0a-4624-b30c-20f37914d74d');\n",
              "          const dataTable =\n",
              "            await google.colab.kernel.invokeFunction('convertToInteractive',\n",
              "                                                     [key], {});\n",
              "          if (!dataTable) return;\n",
              "\n",
              "          const docLinkHtml = 'Like what you see? Visit the ' +\n",
              "            '<a target=\"_blank\" href=https://colab.research.google.com/notebooks/data_table.ipynb>data table notebook</a>'\n",
              "            + ' to learn more about interactive tables.';\n",
              "          element.innerHTML = '';\n",
              "          dataTable['output_type'] = 'display_data';\n",
              "          await google.colab.output.renderOutput(dataTable, element);\n",
              "          const docLink = document.createElement('div');\n",
              "          docLink.innerHTML = docLinkHtml;\n",
              "          element.appendChild(docLink);\n",
              "        }\n",
              "      </script>\n",
              "    </div>\n",
              "  </div>\n",
              "  "
            ]
          },
          "metadata": {},
          "execution_count": 60
        }
      ]
    },
    {
      "cell_type": "markdown",
      "source": [
        "###**Convert series to supervised learning**"
      ],
      "metadata": {
        "id": "2Mp4bEtU3zKx"
      }
    },
    {
      "cell_type": "code",
      "source": [
        "def series_to_supervised(data, n_in=1, n_out=1, dropnan=True):\n",
        "\tn_vars = 1 if type(data) is list else data.shape[1]\n",
        "\tdf = DataFrame(data)\n",
        "\tcols, names = list(), list()\n",
        "\tfor i in range(n_in, 0, -1):\n",
        "\t\tcols.append(df.shift(i))\n",
        "\t\tnames += [('var%d(t-%d)' % (j+1, i)) for j in range(n_vars)]\n",
        "\t#Forecast sequence (t, t+1, ... t+n)\n",
        "\tfor i in range(0, n_out):\n",
        "\t\tcols.append(df.shift(-i))\n",
        "\t\tif i == 0:\n",
        "\t\t\tnames += [('var%d(t)' % (j+1)) for j in range(n_vars)]\n",
        "\t\telse:\n",
        "\t\t\tnames += [('var%d(t+%d)' % (j+1, i)) for j in range(n_vars)]\n",
        "\t#Put it all together\n",
        "\tagg = concat(cols, axis=1)\n",
        "\tagg.columns = names\n",
        "\t#Drop rows with NaN values\n",
        "\tif dropnan:\n",
        "\t\tagg.dropna(inplace=True)\n",
        "\treturn agg"
      ],
      "metadata": {
        "id": "-tg5fDSa3eRd"
      },
      "execution_count": 61,
      "outputs": []
    },
    {
      "cell_type": "code",
      "source": [
        "#Prepare for the time-series generation\n",
        "\n",
        "data = series_to_supervised(dataset, 12,1)\n",
        "values = dataset.values\n",
        "values = values.astype('float32')\n",
        "\n",
        "#Normalize the data using min-max normalizations\n",
        "scaler = MinMaxScaler(feature_range=(0, 1))\n",
        "scaled = scaler.fit_transform(values)\n",
        "\n",
        "#Specify the number of lag hours 10,12,14,16,18,20\n",
        "n_lag = 12\n",
        "\n",
        "#Frame as supervised learning\n",
        "reframed = series_to_supervised(scaled, n_lag, 1)"
      ],
      "metadata": {
        "id": "SvdHqp5X3_RD"
      },
      "execution_count": 62,
      "outputs": []
    },
    {
      "cell_type": "markdown",
      "source": [
        "###**Split into train, validation and test sets**"
      ],
      "metadata": {
        "id": "u4JuoyDbApUo"
      }
    },
    {
      "cell_type": "code",
      "source": [
        "values = reframed.values\n",
        "n_train = int(365 * 4)\n",
        "n_val=int(n_train*0.8)\n",
        "train = values[:n_val, :]\n",
        "val=values[n_val:n_train,:]\n",
        "test = values[n_train:, :]"
      ],
      "metadata": {
        "id": "4E_S6IOSAeJ1"
      },
      "execution_count": 63,
      "outputs": []
    },
    {
      "cell_type": "code",
      "source": [
        "#store the test data set index for comparing it with result\n",
        "x_test_panda=dataset.iloc[n_train:,:]"
      ],
      "metadata": {
        "id": "kLD-ANZwA0Ih"
      },
      "execution_count": 64,
      "outputs": []
    },
    {
      "cell_type": "code",
      "source": [
        "#Split into input and outputs\n",
        "n_obs = n_lag * n_features\n",
        "train_X, train_y = train[:, :n_obs], train[:, -n_features]\n",
        "val_X, val_y=val[:,:n_obs],val[:,-n_features]\n",
        "test_X, test_y = test[:, :n_obs], test[:, -n_features]\n",
        "print(train_X.shape, len(train_X), train_y.shape)"
      ],
      "metadata": {
        "colab": {
          "base_uri": "https://localhost:8080/"
        },
        "id": "Gfn3gK_CBRZR",
        "outputId": "2a3beb14-1f43-48bd-edd0-72cc13671f91"
      },
      "execution_count": 65,
      "outputs": [
        {
          "output_type": "stream",
          "name": "stdout",
          "text": [
            "(1168, 72) 1168 (1168,)\n"
          ]
        }
      ]
    },
    {
      "cell_type": "code",
      "source": [
        "#Reshape input to be 3D [samples, timesteps, features]\n",
        "train_X = np.reshape(train_X, (train_X.shape[0], n_lag, n_features))\n",
        "val_X = np.reshape(val_X, (val_X.shape[0], n_lag, n_features))\n",
        "test_X = np.reshape(test_X, (test_X.shape[0], n_lag, n_features))\n",
        "\n",
        "print(train_X.shape, train_y.shape, test_X.shape, test_y.shape)"
      ],
      "metadata": {
        "colab": {
          "base_uri": "https://localhost:8080/"
        },
        "id": "dBbLWnAqBdaZ",
        "outputId": "21a91b96-7719-4e65-cf6f-c0030e959724"
      },
      "execution_count": 66,
      "outputs": [
        {
          "output_type": "stream",
          "name": "stdout",
          "text": [
            "(1168, 12, 6) (1168,) (1056, 12, 6) (1056,)\n"
          ]
        }
      ]
    },
    {
      "cell_type": "code",
      "source": [
        "def plot_history(history):\n",
        "  #Plot history\n",
        "  pyplot.plot(history.history['loss'], label='Train')\n",
        "  pyplot.plot(history.history['val_loss'], label='Test')\n",
        "  pyplot.legend()\n",
        "  pyplot.show()"
      ],
      "metadata": {
        "id": "oPfkW-x_By5w"
      },
      "execution_count": 68,
      "outputs": []
    },
    {
      "cell_type": "code",
      "source": [
        "model = Sequential()\n",
        "model.add(LSTM(120,input_shape=(train_X.shape[1], train_X.shape[2])))\n",
        "m_name = 'LSTM'\n",
        "model.add(Dense(1))\n",
        "model.compile(loss='mse', optimizer='adam',metrics=['mse','mae'])"
      ],
      "metadata": {
        "id": "CZy3yiTLB0tq"
      },
      "execution_count": 69,
      "outputs": []
    },
    {
      "cell_type": "code",
      "source": [
        "history = model.fit(train_X, train_y, epochs=100, batch_size=30, validation_data=(val_X, val_y),callbacks=[EarlyStopping(monitor='val_loss', patience=10)], verbose=2, shuffle=False)\n",
        "\n",
        "plot_history(history)"
      ],
      "metadata": {
        "colab": {
          "base_uri": "https://localhost:8080/",
          "height": 1000
        },
        "id": "tpUJOeCbC7Hy",
        "outputId": "df7f90e9-dbfb-4013-ac50-764440f62b1f"
      },
      "execution_count": 70,
      "outputs": [
        {
          "output_type": "stream",
          "name": "stdout",
          "text": [
            "Epoch 1/100\n",
            "39/39 - 3s - loss: 0.0047 - mse: 0.0047 - mae: 0.0546 - val_loss: 0.0020 - val_mse: 0.0020 - val_mae: 0.0261 - 3s/epoch - 73ms/step\n",
            "Epoch 2/100\n",
            "39/39 - 0s - loss: 0.0018 - mse: 0.0018 - mae: 0.0302 - val_loss: 0.0019 - val_mse: 0.0019 - val_mae: 0.0249 - 472ms/epoch - 12ms/step\n",
            "Epoch 3/100\n",
            "39/39 - 0s - loss: 0.0017 - mse: 0.0017 - mae: 0.0285 - val_loss: 0.0018 - val_mse: 0.0018 - val_mae: 0.0239 - 494ms/epoch - 13ms/step\n",
            "Epoch 4/100\n",
            "39/39 - 0s - loss: 0.0017 - mse: 0.0017 - mae: 0.0288 - val_loss: 0.0017 - val_mse: 0.0017 - val_mae: 0.0243 - 467ms/epoch - 12ms/step\n",
            "Epoch 5/100\n",
            "39/39 - 0s - loss: 0.0017 - mse: 0.0017 - mae: 0.0297 - val_loss: 0.0018 - val_mse: 0.0018 - val_mae: 0.0268 - 471ms/epoch - 12ms/step\n",
            "Epoch 6/100\n",
            "39/39 - 0s - loss: 0.0017 - mse: 0.0017 - mae: 0.0308 - val_loss: 0.0019 - val_mse: 0.0019 - val_mae: 0.0291 - 475ms/epoch - 12ms/step\n",
            "Epoch 7/100\n",
            "39/39 - 0s - loss: 0.0016 - mse: 0.0016 - mae: 0.0292 - val_loss: 0.0016 - val_mse: 0.0016 - val_mae: 0.0234 - 458ms/epoch - 12ms/step\n",
            "Epoch 8/100\n",
            "39/39 - 0s - loss: 0.0012 - mse: 0.0012 - mae: 0.0238 - val_loss: 0.0013 - val_mse: 0.0013 - val_mae: 0.0191 - 464ms/epoch - 12ms/step\n",
            "Epoch 9/100\n",
            "39/39 - 0s - loss: 0.0011 - mse: 0.0011 - mae: 0.0213 - val_loss: 0.0012 - val_mse: 0.0012 - val_mae: 0.0181 - 449ms/epoch - 12ms/step\n",
            "Epoch 10/100\n",
            "39/39 - 0s - loss: 0.0010 - mse: 0.0010 - mae: 0.0205 - val_loss: 0.0012 - val_mse: 0.0012 - val_mae: 0.0183 - 465ms/epoch - 12ms/step\n",
            "Epoch 11/100\n",
            "39/39 - 0s - loss: 9.9336e-04 - mse: 9.9336e-04 - mae: 0.0202 - val_loss: 0.0011 - val_mse: 0.0011 - val_mae: 0.0184 - 482ms/epoch - 12ms/step\n",
            "Epoch 12/100\n",
            "39/39 - 0s - loss: 9.9626e-04 - mse: 9.9626e-04 - mae: 0.0207 - val_loss: 0.0011 - val_mse: 0.0011 - val_mae: 0.0187 - 493ms/epoch - 13ms/step\n",
            "Epoch 13/100\n",
            "39/39 - 0s - loss: 0.0011 - mse: 0.0011 - mae: 0.0224 - val_loss: 0.0011 - val_mse: 0.0011 - val_mae: 0.0193 - 452ms/epoch - 12ms/step\n",
            "Epoch 14/100\n",
            "39/39 - 0s - loss: 0.0013 - mse: 0.0013 - mae: 0.0263 - val_loss: 0.0014 - val_mse: 0.0014 - val_mae: 0.0239 - 469ms/epoch - 12ms/step\n",
            "Epoch 15/100\n",
            "39/39 - 0s - loss: 0.0015 - mse: 0.0015 - mae: 0.0299 - val_loss: 0.0016 - val_mse: 0.0016 - val_mae: 0.0271 - 473ms/epoch - 12ms/step\n",
            "Epoch 16/100\n",
            "39/39 - 0s - loss: 0.0013 - mse: 0.0013 - mae: 0.0274 - val_loss: 0.0010 - val_mse: 0.0010 - val_mae: 0.0162 - 454ms/epoch - 12ms/step\n",
            "Epoch 17/100\n",
            "39/39 - 0s - loss: 8.7575e-04 - mse: 8.7575e-04 - mae: 0.0191 - val_loss: 9.9232e-04 - val_mse: 9.9232e-04 - val_mae: 0.0157 - 470ms/epoch - 12ms/step\n",
            "Epoch 18/100\n",
            "39/39 - 0s - loss: 8.1144e-04 - mse: 8.1144e-04 - mae: 0.0178 - val_loss: 0.0010 - val_mse: 0.0010 - val_mae: 0.0165 - 462ms/epoch - 12ms/step\n",
            "Epoch 19/100\n",
            "39/39 - 0s - loss: 8.2409e-04 - mse: 8.2409e-04 - mae: 0.0187 - val_loss: 0.0011 - val_mse: 0.0011 - val_mae: 0.0191 - 473ms/epoch - 12ms/step\n",
            "Epoch 20/100\n",
            "39/39 - 0s - loss: 8.8966e-04 - mse: 8.8966e-04 - mae: 0.0205 - val_loss: 0.0010 - val_mse: 0.0010 - val_mae: 0.0178 - 472ms/epoch - 12ms/step\n",
            "Epoch 21/100\n",
            "39/39 - 0s - loss: 7.9612e-04 - mse: 7.9612e-04 - mae: 0.0182 - val_loss: 9.6801e-04 - val_mse: 9.6801e-04 - val_mae: 0.0160 - 486ms/epoch - 12ms/step\n",
            "Epoch 22/100\n",
            "39/39 - 0s - loss: 7.4170e-04 - mse: 7.4170e-04 - mae: 0.0169 - val_loss: 9.4538e-04 - val_mse: 9.4538e-04 - val_mae: 0.0158 - 465ms/epoch - 12ms/step\n",
            "Epoch 23/100\n",
            "39/39 - 0s - loss: 7.4311e-04 - mse: 7.4311e-04 - mae: 0.0173 - val_loss: 9.5921e-04 - val_mse: 9.5921e-04 - val_mae: 0.0164 - 458ms/epoch - 12ms/step\n",
            "Epoch 24/100\n",
            "39/39 - 0s - loss: 7.8256e-04 - mse: 7.8256e-04 - mae: 0.0186 - val_loss: 9.8841e-04 - val_mse: 9.8841e-04 - val_mae: 0.0173 - 459ms/epoch - 12ms/step\n",
            "Epoch 25/100\n",
            "39/39 - 0s - loss: 8.2843e-04 - mse: 8.2843e-04 - mae: 0.0199 - val_loss: 0.0010 - val_mse: 0.0010 - val_mae: 0.0182 - 460ms/epoch - 12ms/step\n",
            "Epoch 26/100\n",
            "39/39 - 0s - loss: 8.3546e-04 - mse: 8.3546e-04 - mae: 0.0201 - val_loss: 0.0010 - val_mse: 0.0010 - val_mae: 0.0178 - 473ms/epoch - 12ms/step\n",
            "Epoch 27/100\n",
            "39/39 - 0s - loss: 7.7581e-04 - mse: 7.7581e-04 - mae: 0.0189 - val_loss: 9.3464e-04 - val_mse: 9.3464e-04 - val_mae: 0.0162 - 454ms/epoch - 12ms/step\n",
            "Epoch 28/100\n",
            "39/39 - 0s - loss: 7.0844e-04 - mse: 7.0844e-04 - mae: 0.0172 - val_loss: 8.8840e-04 - val_mse: 8.8840e-04 - val_mae: 0.0152 - 468ms/epoch - 12ms/step\n",
            "Epoch 29/100\n",
            "39/39 - 0s - loss: 6.8233e-04 - mse: 6.8233e-04 - mae: 0.0166 - val_loss: 8.7603e-04 - val_mse: 8.7603e-04 - val_mae: 0.0152 - 461ms/epoch - 12ms/step\n",
            "Epoch 30/100\n",
            "39/39 - 0s - loss: 6.9219e-04 - mse: 6.9219e-04 - mae: 0.0171 - val_loss: 8.8480e-04 - val_mse: 8.8480e-04 - val_mae: 0.0157 - 466ms/epoch - 12ms/step\n",
            "Epoch 31/100\n",
            "39/39 - 0s - loss: 7.2649e-04 - mse: 7.2649e-04 - mae: 0.0182 - val_loss: 9.0815e-04 - val_mse: 9.0815e-04 - val_mae: 0.0164 - 476ms/epoch - 12ms/step\n",
            "Epoch 32/100\n",
            "39/39 - 0s - loss: 7.6656e-04 - mse: 7.6656e-04 - mae: 0.0193 - val_loss: 9.3688e-04 - val_mse: 9.3688e-04 - val_mae: 0.0172 - 473ms/epoch - 12ms/step\n",
            "Epoch 33/100\n",
            "39/39 - 0s - loss: 7.7195e-04 - mse: 7.7195e-04 - mae: 0.0195 - val_loss: 9.2648e-04 - val_mse: 9.2648e-04 - val_mae: 0.0169 - 449ms/epoch - 12ms/step\n",
            "Epoch 34/100\n",
            "39/39 - 0s - loss: 7.1948e-04 - mse: 7.1948e-04 - mae: 0.0184 - val_loss: 8.7071e-04 - val_mse: 8.7071e-04 - val_mae: 0.0156 - 462ms/epoch - 12ms/step\n",
            "Epoch 35/100\n",
            "39/39 - 0s - loss: 6.5587e-04 - mse: 6.5587e-04 - mae: 0.0168 - val_loss: 8.2731e-04 - val_mse: 8.2731e-04 - val_mae: 0.0145 - 454ms/epoch - 12ms/step\n",
            "Epoch 36/100\n",
            "39/39 - 0s - loss: 6.2752e-04 - mse: 6.2752e-04 - mae: 0.0160 - val_loss: 8.1410e-04 - val_mse: 8.1410e-04 - val_mae: 0.0143 - 489ms/epoch - 13ms/step\n",
            "Epoch 37/100\n",
            "39/39 - 0s - loss: 6.3183e-04 - mse: 6.3183e-04 - mae: 0.0163 - val_loss: 8.2070e-04 - val_mse: 8.2070e-04 - val_mae: 0.0147 - 458ms/epoch - 12ms/step\n",
            "Epoch 38/100\n",
            "39/39 - 0s - loss: 6.5799e-04 - mse: 6.5799e-04 - mae: 0.0172 - val_loss: 8.3873e-04 - val_mse: 8.3873e-04 - val_mae: 0.0153 - 442ms/epoch - 11ms/step\n",
            "Epoch 39/100\n",
            "39/39 - 0s - loss: 6.9381e-04 - mse: 6.9381e-04 - mae: 0.0182 - val_loss: 8.6349e-04 - val_mse: 8.6349e-04 - val_mae: 0.0160 - 470ms/epoch - 12ms/step\n",
            "Epoch 40/100\n",
            "39/39 - 0s - loss: 7.1463e-04 - mse: 7.1463e-04 - mae: 0.0187 - val_loss: 8.7383e-04 - val_mse: 8.7383e-04 - val_mae: 0.0163 - 456ms/epoch - 12ms/step\n",
            "Epoch 41/100\n",
            "39/39 - 0s - loss: 6.9374e-04 - mse: 6.9374e-04 - mae: 0.0183 - val_loss: 8.4627e-04 - val_mse: 8.4627e-04 - val_mae: 0.0156 - 451ms/epoch - 12ms/step\n",
            "Epoch 42/100\n",
            "39/39 - 0s - loss: 6.4328e-04 - mse: 6.4328e-04 - mae: 0.0171 - val_loss: 8.0544e-04 - val_mse: 8.0544e-04 - val_mae: 0.0145 - 448ms/epoch - 11ms/step\n",
            "Epoch 43/100\n",
            "39/39 - 0s - loss: 6.0459e-04 - mse: 6.0459e-04 - mae: 0.0160 - val_loss: 7.8235e-04 - val_mse: 7.8235e-04 - val_mae: 0.0139 - 486ms/epoch - 12ms/step\n",
            "Epoch 44/100\n",
            "39/39 - 0s - loss: 5.9315e-04 - mse: 5.9315e-04 - mae: 0.0157 - val_loss: 7.7902e-04 - val_mse: 7.7902e-04 - val_mae: 0.0140 - 468ms/epoch - 12ms/step\n",
            "Epoch 45/100\n",
            "39/39 - 0s - loss: 6.0241e-04 - mse: 6.0241e-04 - mae: 0.0161 - val_loss: 7.8717e-04 - val_mse: 7.8717e-04 - val_mae: 0.0143 - 465ms/epoch - 12ms/step\n",
            "Epoch 46/100\n",
            "39/39 - 0s - loss: 6.2398e-04 - mse: 6.2398e-04 - mae: 0.0167 - val_loss: 8.0097e-04 - val_mse: 8.0097e-04 - val_mae: 0.0148 - 445ms/epoch - 11ms/step\n",
            "Epoch 47/100\n",
            "39/39 - 1s - loss: 6.4832e-04 - mse: 6.4832e-04 - mae: 0.0174 - val_loss: 8.1536e-04 - val_mse: 8.1536e-04 - val_mae: 0.0153 - 505ms/epoch - 13ms/step\n",
            "Epoch 48/100\n",
            "39/39 - 0s - loss: 6.6120e-04 - mse: 6.6120e-04 - mae: 0.0178 - val_loss: 8.1971e-04 - val_mse: 8.1971e-04 - val_mae: 0.0155 - 499ms/epoch - 13ms/step\n",
            "Epoch 49/100\n",
            "39/39 - 0s - loss: 6.5124e-04 - mse: 6.5124e-04 - mae: 0.0175 - val_loss: 8.0574e-04 - val_mse: 8.0574e-04 - val_mae: 0.0151 - 470ms/epoch - 12ms/step\n",
            "Epoch 50/100\n",
            "39/39 - 0s - loss: 6.2434e-04 - mse: 6.2434e-04 - mae: 0.0169 - val_loss: 7.8223e-04 - val_mse: 7.8223e-04 - val_mae: 0.0145 - 466ms/epoch - 12ms/step\n",
            "Epoch 51/100\n",
            "39/39 - 0s - loss: 5.9891e-04 - mse: 5.9891e-04 - mae: 0.0162 - val_loss: 7.6373e-04 - val_mse: 7.6373e-04 - val_mae: 0.0141 - 469ms/epoch - 12ms/step\n",
            "Epoch 52/100\n",
            "39/39 - 0s - loss: 5.8655e-04 - mse: 5.8655e-04 - mae: 0.0158 - val_loss: 7.5577e-04 - val_mse: 7.5577e-04 - val_mae: 0.0140 - 466ms/epoch - 12ms/step\n",
            "Epoch 53/100\n",
            "39/39 - 0s - loss: 5.8770e-04 - mse: 5.8770e-04 - mae: 0.0159 - val_loss: 7.5617e-04 - val_mse: 7.5617e-04 - val_mae: 0.0141 - 468ms/epoch - 12ms/step\n",
            "Epoch 54/100\n",
            "39/39 - 0s - loss: 5.9766e-04 - mse: 5.9766e-04 - mae: 0.0162 - val_loss: 7.6091e-04 - val_mse: 7.6091e-04 - val_mae: 0.0144 - 469ms/epoch - 12ms/step\n",
            "Epoch 55/100\n",
            "39/39 - 0s - loss: 6.1152e-04 - mse: 6.1152e-04 - mae: 0.0166 - val_loss: 7.6706e-04 - val_mse: 7.6706e-04 - val_mae: 0.0147 - 448ms/epoch - 11ms/step\n",
            "Epoch 56/100\n",
            "39/39 - 0s - loss: 6.2391e-04 - mse: 6.2391e-04 - mae: 0.0170 - val_loss: 7.7140e-04 - val_mse: 7.7140e-04 - val_mae: 0.0149 - 471ms/epoch - 12ms/step\n",
            "Epoch 57/100\n",
            "39/39 - 0s - loss: 6.2916e-04 - mse: 6.2916e-04 - mae: 0.0171 - val_loss: 7.7025e-04 - val_mse: 7.7025e-04 - val_mae: 0.0149 - 453ms/epoch - 12ms/step\n",
            "Epoch 58/100\n",
            "39/39 - 0s - loss: 6.2456e-04 - mse: 6.2456e-04 - mae: 0.0170 - val_loss: 7.6212e-04 - val_mse: 7.6212e-04 - val_mae: 0.0148 - 476ms/epoch - 12ms/step\n",
            "Epoch 59/100\n",
            "39/39 - 0s - loss: 6.1248e-04 - mse: 6.1248e-04 - mae: 0.0167 - val_loss: 7.4961e-04 - val_mse: 7.4961e-04 - val_mae: 0.0145 - 457ms/epoch - 12ms/step\n",
            "Epoch 60/100\n",
            "39/39 - 0s - loss: 5.9932e-04 - mse: 5.9932e-04 - mae: 0.0164 - val_loss: 7.3756e-04 - val_mse: 7.3756e-04 - val_mae: 0.0142 - 469ms/epoch - 12ms/step\n",
            "Epoch 61/100\n",
            "39/39 - 0s - loss: 5.9018e-04 - mse: 5.9018e-04 - mae: 0.0161 - val_loss: 7.2934e-04 - val_mse: 7.2934e-04 - val_mae: 0.0141 - 463ms/epoch - 12ms/step\n",
            "Epoch 62/100\n",
            "39/39 - 0s - loss: 5.8792e-04 - mse: 5.8792e-04 - mae: 0.0161 - val_loss: 7.2591e-04 - val_mse: 7.2591e-04 - val_mae: 0.0141 - 468ms/epoch - 12ms/step\n",
            "Epoch 63/100\n",
            "39/39 - 0s - loss: 5.9127e-04 - mse: 5.9127e-04 - mae: 0.0162 - val_loss: 7.2585e-04 - val_mse: 7.2585e-04 - val_mae: 0.0142 - 472ms/epoch - 12ms/step\n",
            "Epoch 64/100\n",
            "39/39 - 0s - loss: 6.0009e-04 - mse: 6.0009e-04 - mae: 0.0164 - val_loss: 7.2810e-04 - val_mse: 7.2810e-04 - val_mae: 0.0144 - 473ms/epoch - 12ms/step\n",
            "Epoch 65/100\n",
            "39/39 - 0s - loss: 6.0899e-04 - mse: 6.0899e-04 - mae: 0.0167 - val_loss: 7.2992e-04 - val_mse: 7.2992e-04 - val_mae: 0.0146 - 462ms/epoch - 12ms/step\n",
            "Epoch 66/100\n",
            "39/39 - 0s - loss: 6.2083e-04 - mse: 6.2083e-04 - mae: 0.0170 - val_loss: 7.3563e-04 - val_mse: 7.3563e-04 - val_mae: 0.0149 - 459ms/epoch - 12ms/step\n",
            "Epoch 67/100\n",
            "39/39 - 0s - loss: 6.3849e-04 - mse: 6.3849e-04 - mae: 0.0175 - val_loss: 7.4876e-04 - val_mse: 7.4876e-04 - val_mae: 0.0153 - 468ms/epoch - 12ms/step\n",
            "Epoch 68/100\n",
            "39/39 - 0s - loss: 6.5141e-04 - mse: 6.5141e-04 - mae: 0.0178 - val_loss: 7.4840e-04 - val_mse: 7.4840e-04 - val_mae: 0.0153 - 462ms/epoch - 12ms/step\n",
            "Epoch 69/100\n",
            "39/39 - 0s - loss: 6.2871e-04 - mse: 6.2871e-04 - mae: 0.0172 - val_loss: 7.2799e-04 - val_mse: 7.2799e-04 - val_mae: 0.0147 - 492ms/epoch - 13ms/step\n",
            "Epoch 70/100\n",
            "39/39 - 0s - loss: 5.9700e-04 - mse: 5.9700e-04 - mae: 0.0164 - val_loss: 7.0295e-04 - val_mse: 7.0295e-04 - val_mae: 0.0141 - 475ms/epoch - 12ms/step\n",
            "Epoch 71/100\n",
            "39/39 - 0s - loss: 5.7344e-04 - mse: 5.7344e-04 - mae: 0.0157 - val_loss: 6.8628e-04 - val_mse: 6.8628e-04 - val_mae: 0.0136 - 474ms/epoch - 12ms/step\n",
            "Epoch 72/100\n",
            "39/39 - 0s - loss: 5.5981e-04 - mse: 5.5981e-04 - mae: 0.0153 - val_loss: 6.7827e-04 - val_mse: 6.7827e-04 - val_mae: 0.0135 - 465ms/epoch - 12ms/step\n",
            "Epoch 73/100\n",
            "39/39 - 0s - loss: 5.5956e-04 - mse: 5.5956e-04 - mae: 0.0153 - val_loss: 6.7835e-04 - val_mse: 6.7835e-04 - val_mae: 0.0136 - 467ms/epoch - 12ms/step\n",
            "Epoch 74/100\n",
            "39/39 - 0s - loss: 5.6628e-04 - mse: 5.6628e-04 - mae: 0.0155 - val_loss: 6.8283e-04 - val_mse: 6.8283e-04 - val_mae: 0.0138 - 451ms/epoch - 12ms/step\n",
            "Epoch 75/100\n",
            "39/39 - 0s - loss: 5.8024e-04 - mse: 5.8024e-04 - mae: 0.0160 - val_loss: 6.9038e-04 - val_mse: 6.9038e-04 - val_mae: 0.0141 - 465ms/epoch - 12ms/step\n",
            "Epoch 76/100\n",
            "39/39 - 0s - loss: 5.9552e-04 - mse: 5.9552e-04 - mae: 0.0164 - val_loss: 6.9824e-04 - val_mse: 6.9824e-04 - val_mae: 0.0145 - 470ms/epoch - 12ms/step\n",
            "Epoch 77/100\n",
            "39/39 - 0s - loss: 6.1123e-04 - mse: 6.1123e-04 - mae: 0.0169 - val_loss: 7.0598e-04 - val_mse: 7.0598e-04 - val_mae: 0.0147 - 460ms/epoch - 12ms/step\n",
            "Epoch 78/100\n",
            "39/39 - 0s - loss: 6.1716e-04 - mse: 6.1716e-04 - mae: 0.0170 - val_loss: 7.0668e-04 - val_mse: 7.0668e-04 - val_mae: 0.0148 - 468ms/epoch - 12ms/step\n",
            "Epoch 79/100\n",
            "39/39 - 0s - loss: 6.1842e-04 - mse: 6.1842e-04 - mae: 0.0171 - val_loss: 7.0387e-04 - val_mse: 7.0387e-04 - val_mae: 0.0147 - 463ms/epoch - 12ms/step\n",
            "Epoch 80/100\n",
            "39/39 - 0s - loss: 6.0355e-04 - mse: 6.0355e-04 - mae: 0.0167 - val_loss: 6.9147e-04 - val_mse: 6.9147e-04 - val_mae: 0.0144 - 488ms/epoch - 13ms/step\n",
            "Epoch 81/100\n",
            "39/39 - 0s - loss: 5.9540e-04 - mse: 5.9540e-04 - mae: 0.0165 - val_loss: 6.8303e-04 - val_mse: 6.8303e-04 - val_mae: 0.0142 - 457ms/epoch - 12ms/step\n",
            "Epoch 82/100\n",
            "39/39 - 0s - loss: 5.7985e-04 - mse: 5.7985e-04 - mae: 0.0160 - val_loss: 6.7618e-04 - val_mse: 6.7618e-04 - val_mae: 0.0141 - 462ms/epoch - 12ms/step\n",
            "Epoch 83/100\n",
            "39/39 - 0s - loss: 5.8563e-04 - mse: 5.8563e-04 - mae: 0.0162 - val_loss: 6.7633e-04 - val_mse: 6.7633e-04 - val_mae: 0.0141 - 456ms/epoch - 12ms/step\n",
            "Epoch 84/100\n",
            "39/39 - 0s - loss: 5.7794e-04 - mse: 5.7794e-04 - mae: 0.0160 - val_loss: 6.7266e-04 - val_mse: 6.7266e-04 - val_mae: 0.0141 - 471ms/epoch - 12ms/step\n",
            "Epoch 85/100\n",
            "39/39 - 0s - loss: 5.8000e-04 - mse: 5.8000e-04 - mae: 0.0161 - val_loss: 6.7076e-04 - val_mse: 6.7076e-04 - val_mae: 0.0140 - 452ms/epoch - 12ms/step\n",
            "Epoch 86/100\n",
            "39/39 - 0s - loss: 5.7501e-04 - mse: 5.7501e-04 - mae: 0.0159 - val_loss: 6.6790e-04 - val_mse: 6.6790e-04 - val_mae: 0.0140 - 467ms/epoch - 12ms/step\n",
            "Epoch 87/100\n",
            "39/39 - 0s - loss: 5.7755e-04 - mse: 5.7755e-04 - mae: 0.0160 - val_loss: 6.6830e-04 - val_mse: 6.6830e-04 - val_mae: 0.0141 - 450ms/epoch - 12ms/step\n",
            "Epoch 88/100\n",
            "39/39 - 0s - loss: 5.7872e-04 - mse: 5.7872e-04 - mae: 0.0161 - val_loss: 6.6909e-04 - val_mse: 6.6909e-04 - val_mae: 0.0141 - 479ms/epoch - 12ms/step\n",
            "Epoch 89/100\n",
            "39/39 - 0s - loss: 5.8463e-04 - mse: 5.8463e-04 - mae: 0.0162 - val_loss: 6.7111e-04 - val_mse: 6.7111e-04 - val_mae: 0.0142 - 459ms/epoch - 12ms/step\n",
            "Epoch 90/100\n",
            "39/39 - 0s - loss: 5.8674e-04 - mse: 5.8674e-04 - mae: 0.0163 - val_loss: 6.7193e-04 - val_mse: 6.7193e-04 - val_mae: 0.0143 - 468ms/epoch - 12ms/step\n",
            "Epoch 91/100\n",
            "39/39 - 0s - loss: 5.9129e-04 - mse: 5.9129e-04 - mae: 0.0164 - val_loss: 6.7206e-04 - val_mse: 6.7206e-04 - val_mae: 0.0143 - 462ms/epoch - 12ms/step\n",
            "Epoch 92/100\n",
            "39/39 - 0s - loss: 5.9134e-04 - mse: 5.9134e-04 - mae: 0.0165 - val_loss: 6.7197e-04 - val_mse: 6.7197e-04 - val_mae: 0.0144 - 456ms/epoch - 12ms/step\n",
            "Epoch 93/100\n",
            "39/39 - 0s - loss: 5.9752e-04 - mse: 5.9752e-04 - mae: 0.0166 - val_loss: 6.7089e-04 - val_mse: 6.7089e-04 - val_mae: 0.0144 - 485ms/epoch - 12ms/step\n",
            "Epoch 94/100\n",
            "39/39 - 0s - loss: 5.9926e-04 - mse: 5.9926e-04 - mae: 0.0167 - val_loss: 6.7359e-04 - val_mse: 6.7359e-04 - val_mae: 0.0146 - 445ms/epoch - 11ms/step\n",
            "Epoch 95/100\n",
            "39/39 - 0s - loss: 6.2405e-04 - mse: 6.2405e-04 - mae: 0.0173 - val_loss: 6.8313e-04 - val_mse: 6.8313e-04 - val_mae: 0.0149 - 454ms/epoch - 12ms/step\n",
            "Epoch 96/100\n",
            "39/39 - 0s - loss: 6.3237e-04 - mse: 6.3237e-04 - mae: 0.0175 - val_loss: 6.9172e-04 - val_mse: 6.9172e-04 - val_mae: 0.0152 - 449ms/epoch - 12ms/step\n"
          ]
        },
        {
          "output_type": "display_data",
          "data": {
            "text/plain": [
              "<Figure size 432x288 with 1 Axes>"
            ],
            "image/png": "[encoded data removed]"
          },
          "metadata": {
            "needs_background": "light"
          }
        }
      ]
    },
    {
      "cell_type": "code",
      "source": [
        "yhat = model.predict(test_X)\n",
        "test_X = test_X.reshape((test_X.shape[0], n_lag*n_features))"
      ],
      "metadata": {
        "id": "Se4hpX2HqHGk"
      },
      "execution_count": 71,
      "outputs": []
    },
    {
      "cell_type": "code",
      "source": [
        "#Invert scaling for forecast\n",
        "inv_yhat = concatenate((yhat, test_X[:, -(n_features-1):]), axis=1)\n",
        "inv_yhat = scaler.inverse_transform(inv_yhat)\n",
        "inv_yhat = inv_yhat[:,0]"
      ],
      "metadata": {
        "id": "CBlm2P7a8hpe"
      },
      "execution_count": 72,
      "outputs": []
    },
    {
      "cell_type": "code",
      "source": [
        "#Invert scaling for actual\n",
        "test_y = test_y.reshape((len(test_y), 1))\n",
        "inv_y = concatenate((test_y, test_X[:, -(n_features-1):]), axis=1)\n",
        "inv_y = scaler.inverse_transform(inv_y)\n",
        "inv_y = inv_y[:,0]"
      ],
      "metadata": {
        "id": "YWSSbpZt8kX6"
      },
      "execution_count": 73,
      "outputs": []
    },
    {
      "cell_type": "code",
      "source": [
        "def da(y_true,y_pred):\n",
        "  sum=0\n",
        "  for i in range(y_true.size-1):\n",
        "    dt=(y_true[i+1]-y_true[i])*(y_pred[i+1]-y_true[i])\n",
        "    if(dt>=0):\n",
        "      sum=sum+1\n",
        "  return sum/(y_true.size-1)"
      ],
      "metadata": {
        "id": "jI5eWLrA84Cx"
      },
      "execution_count": 74,
      "outputs": []
    },
    {
      "cell_type": "code",
      "source": [
        "def evaluateModel(inv_y,inv_yhat):\n",
        "  rmse = sqrt(mean_squared_error(inv_y, inv_yhat))\n",
        "  print('Test RMSE: %.3f' % rmse)\n",
        "  print('R2_Score: %.3f' % r2_score(inv_y,inv_yhat))\n",
        "  print(\"MAE:\", mean_absolute_error(inv_y,inv_yhat))\n",
        "  print(\"Directionnal Accuracy:\", da(inv_y,inv_yhat))"
      ],
      "metadata": {
        "id": "6TxN9esJ9K38"
      },
      "execution_count": 75,
      "outputs": []
    },
    {
      "cell_type": "code",
      "source": [
        "evaluateModel(inv_yhat,inv_y)"
      ],
      "metadata": {
        "colab": {
          "base_uri": "https://localhost:8080/"
        },
        "id": "6xitLfk-8qDp",
        "outputId": "2aa59a9e-46dd-4e29-de51-c78e91804844"
      },
      "execution_count": 76,
      "outputs": [
        {
          "output_type": "stream",
          "name": "stdout",
          "text": [
            "Test RMSE: 108.016\n",
            "R2_Score: 0.837\n",
            "MAE: 90.508354\n",
            "Directionnal Accuracy: 0.5895734597156398\n"
          ]
        }
      ]
    },
    {
      "cell_type": "code",
      "source": [
        "def trend_error(y_true,y_pred,n):\n",
        "  s=type_one=type_two=0\n",
        "  for i in range(y_true.size-1):\n",
        "    actual_diff=y_true[i+1]-y_true[i]\n",
        "    pred_diff=y_pred[i+1]-y_true[i]\n",
        "    if(actual_diff<0 and pred_diff>0):\n",
        "      type_one=type_one+1\n",
        "    elif(actual_diff>0 and pred_diff<0):\n",
        "      type_two=type_two+1\n",
        "    else:\n",
        "      s=s+1\n",
        "  return (s/n,type_one/n,type_two/n)"
      ],
      "metadata": {
        "id": "PyxQoRqJBV5a"
      },
      "execution_count": 77,
      "outputs": []
    },
    {
      "cell_type": "code",
      "source": [
        "trend_error(inv_y,inv_yhat, inv_y.size)"
      ],
      "metadata": {
        "colab": {
          "base_uri": "https://localhost:8080/"
        },
        "id": "GuNm_eN4CDGc",
        "outputId": "1967576d-8f23-401b-f561-8bdc17958137"
      },
      "execution_count": 78,
      "outputs": [
        {
          "output_type": "execute_result",
          "data": {
            "text/plain": [
              "(0.4914772727272727, 0.5075757575757576, 0.0)"
            ]
          },
          "metadata": {},
          "execution_count": 78
        }
      ]
    },
    {
      "cell_type": "code",
      "source": [
        "df = pd.DataFrame({'Actual':inv_y,'Predicted':inv_yhat,'Error': inv_y-inv_yhat,})\n",
        "\n",
        "print(df.shape)\n",
        "print(x_test_panda.shape)"
      ],
      "metadata": {
        "colab": {
          "base_uri": "https://localhost:8080/"
        },
        "id": "MlLdb7VbCG0T",
        "outputId": "a5b0b599-f9a5-4d26-8d85-e702fcc74f6a"
      },
      "execution_count": 79,
      "outputs": [
        {
          "output_type": "stream",
          "name": "stdout",
          "text": [
            "(1056, 3)\n",
            "(1068, 6)\n"
          ]
        }
      ]
    },
    {
      "cell_type": "code",
      "source": [
        "y=x_test_panda.iloc[12:,]\n",
        "true=y['Close']\n",
        "\n",
        "true_x=np.array(true)\n",
        "pred_x=np.array(df['Actual'])"
      ],
      "metadata": {
        "id": "shrQ3zcfCTYY"
      },
      "execution_count": 80,
      "outputs": []
    },
    {
      "cell_type": "code",
      "source": [
        "count=0\n",
        "for i in range(true_x.size):\n",
        "  if(true_x[i]==int(pred_x[i])):\n",
        "    count=count+1\n",
        "print(count)"
      ],
      "metadata": {
        "colab": {
          "base_uri": "https://localhost:8080/"
        },
        "id": "KebnkuH_CoFN",
        "outputId": "b184a07a-0349-4370-c3fd-3749d9d40315"
      },
      "execution_count": 81,
      "outputs": [
        {
          "output_type": "stream",
          "name": "stdout",
          "text": [
            "1014\n"
          ]
        }
      ]
    },
    {
      "cell_type": "code",
      "source": [
        "output_data=df.set_index(y.index)\n",
        "\n",
        "output_data.plot(subplots=True, figsize=(16, 10))"
      ],
      "metadata": {
        "colab": {
          "base_uri": "https://localhost:8080/",
          "height": 675
        },
        "id": "cBHsG-6-C8_8",
        "outputId": "fd0e8ca5-ea53-4e50-b907-dc5c90d89cb4"
      },
      "execution_count": 82,
      "outputs": [
        {
          "output_type": "execute_result",
          "data": {
            "text/plain": [
              "array([<matplotlib.axes._subplots.AxesSubplot object at 0x7fd1cb142c50>,\n",
              "       <matplotlib.axes._subplots.AxesSubplot object at 0x7fd1cea79850>,\n",
              "       <matplotlib.axes._subplots.AxesSubplot object at 0x7fd1cebe1210>],\n",
              "      dtype=object)"
            ]
          },
          "metadata": {},
          "execution_count": 82
        },
        {
          "output_type": "display_data",
          "data": {
            "text/plain": [
              "<Figure size 1152x720 with 3 Axes>"
            ],
            "image/png": "[encoded data removed]"
          },
          "metadata": {
            "needs_background": "light"
          }
        }
      ]
    },
    {
      "cell_type": "code",
      "source": [
        "#Save the output of each model to perform the DM-Test\n",
        "file_path = \"/content/drive/MyDrive/Dissertation/\"\n",
        "file_name = file_path + m_name + '_' + m_set +'_Result.csv'\n",
        "output_data.to_csv(file_name,index=True)\n"
      ],
      "metadata": {
        "id": "XrXm397bH8P5"
      },
      "execution_count": 85,
      "outputs": []
    }
  ]
}